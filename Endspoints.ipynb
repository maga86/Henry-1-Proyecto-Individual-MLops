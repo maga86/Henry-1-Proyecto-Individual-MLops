{
 "cells": [
  {
   "cell_type": "markdown",
   "metadata": {},
   "source": [
    "Endspoints:"
   ]
  },
  {
   "cell_type": "code",
   "execution_count": 1,
   "metadata": {},
   "outputs": [],
   "source": [
    "import pandas as pd\n",
    "import gzip\n",
    "import json\n",
    "import ast\n",
    "import re\n",
    "import random"
   ]
  },
  {
   "cell_type": "code",
   "execution_count": 16,
   "metadata": {},
   "outputs": [],
   "source": [
    "ruta_archivo = 'steam_games.csv'\n",
    "\n",
    "# Usa la función read_csv para abrir el archivo CSV\n",
    "df = pd.read_csv(ruta_archivo)"
   ]
  },
  {
   "cell_type": "code",
   "execution_count": 17,
   "metadata": {},
   "outputs": [],
   "source": [
    "ruta_archivo = 'user_reviews.csv'\n",
    "\n",
    "# Usa la función read_csv para abrir el archivo CSV\n",
    "df2 = pd.read_csv(ruta_archivo)"
   ]
  },
  {
   "cell_type": "code",
   "execution_count": 18,
   "metadata": {},
   "outputs": [],
   "source": [
    "ruta_archivo = 'user_items.csv'\n",
    "\n",
    "# Usa la función read_csv para abrir el archivo CSV\n",
    "df3 = pd.read_csv(ruta_archivo)"
   ]
  },
  {
   "cell_type": "markdown",
   "metadata": {},
   "source": [
    "1- def PlayTimeGenre( genero : str ): Debe devolver año con mas horas jugadas para dicho género.\n",
    "\n",
    "    Ejemplo de retorno: {\"Año de lanzamiento con más horas jugadas para Género X\" : 2013}"
   ]
  },
  {
   "cell_type": "code",
   "execution_count": 19,
   "metadata": {},
   "outputs": [],
   "source": [
    "def PlayTimeGenre(genero: str):\n",
    "    df['user_id'] = df['user_id'].astype(str)\n",
    "    df3['user_id'] = df3['user_id'].astype(str)\n",
    "    # Fusionar ambos DataFrames en base a la columna 'user_id'\n",
    "    df_combinado = df.merge(df3, left_on='user_id', right_on='user_id', how='inner')\n",
    "    df_filtrado = df_combinado[df_combinado['Genres'].str.contains(genero, case=False, na=False)]\n",
    "\n",
    "    if df_filtrado.empty:\n",
    "        return {}  \n",
    "\n",
    "    \n",
    "    agrupado = df_filtrado.groupby('Release_Year')['playtime_forever'].sum()\n",
    "    max_year = agrupado.idxmax()\n",
    "    resultado = {\"Año de lanzamiento con más horas jugadas para Género \" + genero: max_year}\n",
    "\n",
    "    return resultado"
   ]
  },
  {
   "cell_type": "code",
   "execution_count": 20,
   "metadata": {},
   "outputs": [
    {
     "data": {
      "text/plain": [
       "{'Año de lanzamiento con más horas jugadas para Género Indie': 2014}"
      ]
     },
     "execution_count": 20,
     "metadata": {},
     "output_type": "execute_result"
    }
   ],
   "source": [
    "PlayTimeGenre('Indie')\n"
   ]
  },
  {
   "cell_type": "markdown",
   "metadata": {},
   "source": [
    "2-def UserForGenre( genero : str ): Debe devolver el usuario que acumula más horas jugadas para el género dado y una lista de la acumulación de horas jugadas por año.\n",
    "\n",
    "    Ejemplo de retorno: {\"Usuario con más horas jugadas para Género X\" : us213ndjss09sdf, \"Horas jugadas\":[{Año: 2013, Horas: 203}, {Año: 2012, Horas: 100}, {Año: 2011, Horas: 23}]}"
   ]
  },
  {
   "cell_type": "code",
   "execution_count": 8,
   "metadata": {},
   "outputs": [],
   "source": [
    "def UserForGenre(genero: str):\n",
    "    \n",
    "    df['user_id'] = df['user_id'].astype(str)\n",
    "    df3['user_id'] = df3['user_id'].astype(str)\n",
    "    \n",
    "    # Fusionar ambos DataFrames en base a la columna 'user_id'\n",
    "    df_combinado = df.merge(df3, left_on='user_id', right_on='user_id', how='inner')\n",
    "\n",
    "    df_filtrado = df_combinado[df_combinado['Genres'].str.contains(genero, case=False, na=False)]\n",
    "    if df_filtrado.empty:\n",
    "        return {}  \n",
    "    agrupado = df_filtrado.groupby(['user_id', 'Release_Year'])['playtime_forever'].sum().reset_index()\n",
    "    max_user = agrupado.groupby('user_id')['playtime_forever'].sum().idxmax()\n",
    "    df_max_user = agrupado[agrupado['user_id'] == max_user]\n",
    "    lista_acumulacion = df_max_user.rename(columns={'Release_Year': 'Año', 'playtime_forever': 'Horas'}).to_dict('records')\n",
    "    resultado = {\n",
    "        \"Usuario con más horas jugadas para el Género \" + genero: max_user,\n",
    "        \"Horas jugadas\": lista_acumulacion\n",
    "    }\n",
    "\n",
    "    return resultado"
   ]
  },
  {
   "cell_type": "code",
   "execution_count": 9,
   "metadata": {},
   "outputs": [
    {
     "data": {
      "text/plain": [
       "{'Usuario con más horas jugadas para el Género Indie': '305010',\n",
       " 'Horas jugadas': [{'user_id': '305010', 'Año': 2014, 'Horas': 59519}]}"
      ]
     },
     "execution_count": 9,
     "metadata": {},
     "output_type": "execute_result"
    }
   ],
   "source": [
    "UserForGenre('Indie')"
   ]
  },
  {
   "cell_type": "markdown",
   "metadata": {},
   "source": [
    "3-def UsersRecommend( año : int ): Devuelve el top 3 de juegos MÁS recomendados por usuarios para el año dado. (reviews.recommend = True y comentarios positivos/neutrales)"
   ]
  },
  {
   "cell_type": "code",
   "execution_count": 21,
   "metadata": {},
   "outputs": [],
   "source": [
    "\n",
    "\n",
    "def UsersRecommend(año: int):\n",
    "    # filas para el año  y donde recommend es False\n",
    "    juegos_no_recomendados = df2[(df2['recommend'] == True)]\n",
    "    \n",
    "    # muestra aleatoria de df3\n",
    "    sample_size = 90000  \n",
    "    df3_sample = df3.sample(n=sample_size, random_state=42)\n",
    "    \n",
    "    \n",
    "    juegos_no_recomendados = juegos_no_recomendados.merge(df3_sample[['item_id', 'item_name']], on='item_id', how='left')\n",
    "    conteo_juegos = juegos_no_recomendados['item_name'].value_counts().reset_index()\n",
    "    conteo_juegos.columns = ['item_name', 'count']\n",
    "    top_juegos_no_recomendados = conteo_juegos.sort_values(by='count', ascending=True).head(3)\n",
    "    \n",
    "    resultado = [{\"Puesto {}: {}\".format(i+1, juego)} for i, juego in enumerate(top_juegos_no_recomendados['item_name'])]\n",
    "    \n",
    "    return resultado\n"
   ]
  },
  {
   "cell_type": "code",
   "execution_count": 22,
   "metadata": {},
   "outputs": [
    {
     "data": {
      "text/plain": [
       "[{'Puesto 1: Earthworm Jim 3D'},\n",
       " {'Puesto 2: Organic Panic'},\n",
       " {'Puesto 3: 3D Ultra Minigolf Adventures Deluxe'}]"
      ]
     },
     "execution_count": 22,
     "metadata": {},
     "output_type": "execute_result"
    }
   ],
   "source": [
    "UsersRecommend(2014)"
   ]
  },
  {
   "cell_type": "markdown",
   "metadata": {},
   "source": [
    "4-def UsersNotRecommend( año : int ): Devuelve el top 3 de juegos MENOS recomendados por usuarios para el año dado. (reviews.recommend = False y comentarios negativos)\n",
    "\n",
    "   Ejemplo de retorno: [{\"Puesto 1\" : X}, {\"Puesto 2\" : Y},{\"Puesto 3\" : Z}]"
   ]
  },
  {
   "cell_type": "code",
   "execution_count": 10,
   "metadata": {},
   "outputs": [],
   "source": [
    "def UsersNotRecommend(año: int):\n",
    "     #filas para el año dado y donde recommend es False\n",
    "    juegos_no_recomendados = df2[(df2['recommend'] == False)]\n",
    "    \n",
    "    juegos_no_recomendados = juegos_no_recomendados.merge(df3[['item_id', 'item_name']], on='item_id', how='left')\n",
    "    conteo_juegos = juegos_no_recomendados['item_name'].value_counts().reset_index()\n",
    "    conteo_juegos.columns = ['item_name', 'count']\n",
    "    \n",
    "    top_juegos_no_recomendados = conteo_juegos.sort_values(by='count', ascending=True).head(3)\n",
    "    \n",
    "    \n",
    "    resultado = [{\"Puesto {}: {}\".format(i+1, juego)} for i, juego in enumerate(top_juegos_no_recomendados['item_name'])]\n",
    "    \n",
    "    return resultado\n",
    "\n"
   ]
  },
  {
   "cell_type": "code",
   "execution_count": 11,
   "metadata": {},
   "outputs": [
    {
     "name": "stdout",
     "output_type": "stream",
     "text": [
      "[{'Puesto 1: Avaris 2'}, {'Puesto 2: World of Subways 1 – The Path'}, {'Puesto 3: Shrooms'}]\n"
     ]
    }
   ],
   "source": [
    "UsersNotRecommend(2011)\n"
   ]
  },
  {
   "cell_type": "markdown",
   "metadata": {},
   "source": [
    "5-def sentiment_analysis( año : int ): Según el año de lanzamiento, se devuelve una lista con la cantidad de registros de reseñas de usuarios que se encuentren categorizados con un análisis de sentimiento.\n",
    "\n",
    "   Ejemplo de retorno: {Negative = 182, Neutral = 120, Positive = 278}"
   ]
  },
  {
   "cell_type": "code",
   "execution_count": 12,
   "metadata": {},
   "outputs": [],
   "source": [
    "def sentiment_analysis(anio: int):\n",
    "    # Filtra el DataFrame para obtener solo las filas correspondientes al año especificado\n",
    "    df_filtrado = df2[df2['Year'] == anio]\n",
    "\n",
    "    # Contabiliza la cantidad de registros en cada categoría de análisis de sentimiento\n",
    "    categorias_sentimiento = df_filtrado['sentiment_analysis'].value_counts()\n",
    "\n",
    "    # Crea un diccionario con el formato deseado\n",
    "    resultado = {\n",
    "        'Negativo': categorias_sentimiento.get(0, 0),  # Si no hay registros negativos, se establece en 0\n",
    "        'Neutral': categorias_sentimiento.get(1, 0),   # Si no hay registros neutrales, se establece en 0\n",
    "        'Positivo': categorias_sentimiento.get(2, 0)   # Si no hay registros positivos, se establece en 0\n",
    "    }\n",
    "\n",
    "    return resultado"
   ]
  },
  {
   "cell_type": "code",
   "execution_count": 13,
   "metadata": {},
   "outputs": [
    {
     "name": "stdout",
     "output_type": "stream",
     "text": [
      "{'Negativo': 1830, 'Neutral': 13358, 'Positivo': 6923}\n"
     ]
    }
   ],
   "source": [
    "# Ejemplo de uso de la función\n",
    "anio = 2014  # Cambia el año según tus necesidades\n",
    "resultado = sentiment_analysis(anio)\n",
    "print(resultado)"
   ]
  }
 ],
 "metadata": {
  "kernelspec": {
   "display_name": "base",
   "language": "python",
   "name": "python3"
  },
  "language_info": {
   "codemirror_mode": {
    "name": "ipython",
    "version": 3
   },
   "file_extension": ".py",
   "mimetype": "text/x-python",
   "name": "python",
   "nbconvert_exporter": "python",
   "pygments_lexer": "ipython3",
   "version": "3.11.3"
  },
  "orig_nbformat": 4
 },
 "nbformat": 4,
 "nbformat_minor": 2
}
