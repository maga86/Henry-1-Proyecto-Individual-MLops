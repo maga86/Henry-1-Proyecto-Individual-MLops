{
 "cells": [
  {
   "cell_type": "markdown",
   "metadata": {},
   "source": [
    "Endspoints:"
   ]
  },
  {
   "cell_type": "code",
   "execution_count": 6,
   "metadata": {},
   "outputs": [],
   "source": [
    "import pandas as pd\n",
    "import gzip\n",
    "import json\n",
    "import ast\n",
    "import re\n",
    "import random"
   ]
  },
  {
   "cell_type": "code",
   "execution_count": 7,
   "metadata": {},
   "outputs": [],
   "source": [
    "ruta_archivo = 'steam_games.csv'\n",
    "df = pd.read_csv(ruta_archivo)"
   ]
  },
  {
   "cell_type": "code",
   "execution_count": 8,
   "metadata": {},
   "outputs": [],
   "source": [
    "ruta_archivo = 'user_reviews.csv'\n",
    "df2 = pd.read_csv(ruta_archivo)"
   ]
  },
  {
   "cell_type": "code",
   "execution_count": 9,
   "metadata": {},
   "outputs": [
    {
     "name": "stderr",
     "output_type": "stream",
     "text": [
      "C:\\Users\\COMPUTER\\AppData\\Local\\Temp\\ipykernel_3868\\2666023782.py:2: DtypeWarning: Columns (0) have mixed types. Specify dtype option on import or set low_memory=False.\n",
      "  df3 = pd.read_csv(ruta_archivo)\n"
     ]
    }
   ],
   "source": [
    "ruta_archivo = 'user_items.csv'\n",
    "df3 = pd.read_csv(ruta_archivo)"
   ]
  },
  {
   "cell_type": "markdown",
   "metadata": {},
   "source": [
    "1- def PlayTimeGenre( genero : str ): Debe devolver año con mas horas jugadas para dicho género.\n",
    "\n",
    "    Ejemplo de retorno: {\"Año de lanzamiento con más horas jugadas para Género X\" : 2013}"
   ]
  },
  {
   "cell_type": "code",
   "execution_count": 5,
   "metadata": {},
   "outputs": [],
   "source": [
    "def PlayTimeGenre(genero: str):\n",
    "    \n",
    "    df['User_Id'] = df['User_Id'].astype(str)\n",
    "    df3['User_Id'] = df3['User_Id'].astype(str)\n",
    "    # Fusionar ambos DataFrames en base a la columna 'user_id'\n",
    "    df_combinado = df.merge(df3, left_on='User_Id', right_on='User_Id', how='inner')\n",
    "    df_filtrado = df_combinado[df_combinado['Genres'].str.contains(genero, case=False, na=False)]\n",
    "\n",
    "    if df_filtrado.empty:\n",
    "        return {}  \n",
    "\n",
    "    \n",
    "    agrupado = df_filtrado.groupby('Release_Year')['Playtime_Forever'].sum()\n",
    "    max_year = agrupado.idxmax()\n",
    "    resultado = {\"Año de lanzamiento con más horas jugadas para Género \" + genero: max_year}\n",
    "\n",
    "    return resultado"
   ]
  },
  {
   "cell_type": "code",
   "execution_count": 6,
   "metadata": {},
   "outputs": [
    {
     "data": {
      "text/plain": [
       "{'Año de lanzamiento con más horas jugadas para Género Indie': 2014}"
      ]
     },
     "execution_count": 6,
     "metadata": {},
     "output_type": "execute_result"
    }
   ],
   "source": [
    "PlayTimeGenre('Indie')\n"
   ]
  },
  {
   "cell_type": "markdown",
   "metadata": {},
   "source": [
    "2-def UserForGenre( genero : str ): Debe devolver el usuario que acumula más horas jugadas para el género dado y una lista de la acumulación de horas jugadas por año.\n",
    "\n",
    "    Ejemplo de retorno: {\"Usuario con más horas jugadas para Género X\" : us213ndjss09sdf, \"Horas jugadas\":[{Año: 2013, Horas: 203}, {Año: 2012, Horas: 100}, {Año: 2011, Horas: 23}]}"
   ]
  },
  {
   "cell_type": "code",
   "execution_count": 7,
   "metadata": {},
   "outputs": [],
   "source": [
    "def UserForGenre(genero: str):\n",
    "    \n",
    "    df['User_Id'] = df['User_Id'].astype(str)\n",
    "    df3['User_Id'] = df3['User_Id'].astype(str)\n",
    "    \n",
    "    # Fusionar ambos DataFrames en base a la columna 'user_id'\n",
    "    df_combinado = df.merge(df3, left_on='User_Id', right_on='User_Id', how='inner')\n",
    "\n",
    "    df_filtrado = df_combinado[df_combinado['Genres'].str.contains(genero, case=False, na=False)]\n",
    "    if df_filtrado.empty:\n",
    "        return {}  \n",
    "    agrupado = df_filtrado.groupby(['User_Id', 'Release_Year'])['Playtime_Forever'].sum().reset_index()\n",
    "    max_user = agrupado.groupby('User_Id')['Playtime_Forever'].sum().idxmax()\n",
    "    df_max_user = agrupado[agrupado['User_Id'] == max_user]\n",
    "    lista_acumulacion = df_max_user.rename(columns={'Release_Year': 'Año', 'Playtime_Forever': 'Horas'}).to_dict('records')\n",
    "    resultado = {\n",
    "        \"Usuario con más horas jugadas para el Género \" + genero: max_user,\n",
    "        \"Horas jugadas\": lista_acumulacion\n",
    "    }\n",
    "\n",
    "    return resultado"
   ]
  },
  {
   "cell_type": "code",
   "execution_count": 8,
   "metadata": {},
   "outputs": [
    {
     "data": {
      "text/plain": [
       "{'Usuario con más horas jugadas para el Género Indie': '305010',\n",
       " 'Horas jugadas': [{'User_Id': '305010', 'Año': 2014, 'Horas': 59519}]}"
      ]
     },
     "execution_count": 8,
     "metadata": {},
     "output_type": "execute_result"
    }
   ],
   "source": [
    "UserForGenre('Indie')"
   ]
  },
  {
   "cell_type": "markdown",
   "metadata": {},
   "source": [
    "3-def UsersRecommend( año : int ): Devuelve el top 3 de juegos MÁS recomendados por usuarios para el año dado. (reviews.recommend = True y comentarios positivos/neutrales)"
   ]
  },
  {
   "cell_type": "code",
   "execution_count": 13,
   "metadata": {},
   "outputs": [],
   "source": [
    "def UsersRecommend(año: int):\n",
    "    # filas para el año  y donde recommend es False\n",
    "    juegos_no_recomendados = df2[(df2['Recommend'] == True)]\n",
    "    \n",
    "    # muestra aleatoria de df3\n",
    "    sample_size = 90000  \n",
    "    df3_sample = df3.sample(n=sample_size, random_state=42)\n",
    "    \n",
    "    \n",
    "    juegos_no_recomendados = juegos_no_recomendados.merge(df3_sample[['Item_Id', 'Item_Name']], on='Item_Id', how='left')\n",
    "    conteo_juegos = juegos_no_recomendados['Item_Name'].value_counts().reset_index()\n",
    "    conteo_juegos.columns = ['Item_Name', 'count']\n",
    "    top_juegos_no_recomendados = conteo_juegos.sort_values(by='count', ascending=True).head(3)\n",
    "    \n",
    "    resultado = [{\"Puesto {}: {}\".format(i+1, juego)} for i, juego in enumerate(top_juegos_no_recomendados['Item_Name'])]\n",
    "    \n",
    "    return resultado\n"
   ]
  },
  {
   "cell_type": "code",
   "execution_count": 14,
   "metadata": {},
   "outputs": [
    {
     "data": {
      "text/plain": [
       "[{'Puesto 1: Putt-Putt Goes to the Moon'},\n",
       " {'Puesto 2: Riven'},\n",
       " {'Puesto 3: Jagged Alliance Flashback'}]"
      ]
     },
     "execution_count": 14,
     "metadata": {},
     "output_type": "execute_result"
    }
   ],
   "source": [
    "UsersRecommend(2014)"
   ]
  },
  {
   "cell_type": "markdown",
   "metadata": {},
   "source": [
    "4-def UsersNotRecommend( año : int ): Devuelve el top 3 de juegos MENOS recomendados por usuarios para el año dado. (reviews.recommend = False y comentarios negativos)\n",
    "\n",
    "   Ejemplo de retorno: [{\"Puesto 1\" : X}, {\"Puesto 2\" : Y},{\"Puesto 3\" : Z}]"
   ]
  },
  {
   "cell_type": "code",
   "execution_count": 13,
   "metadata": {},
   "outputs": [],
   "source": [
    "def UsersNotRecommend(año: int):\n",
    "     #filas para el año dado y donde recommend es False\n",
    "    juegos_no_recomendados = df2[(df2['Recommend'] == False)]\n",
    "    \n",
    "    juegos_no_recomendados = juegos_no_recomendados.merge(df3[['Item_Id', 'Item_Name']], on='Item_Id', how='left')\n",
    "    conteo_juegos = juegos_no_recomendados['Item_Name'].value_counts().reset_index()\n",
    "    conteo_juegos.columns = ['Item_Name', 'count']\n",
    "    \n",
    "    top_juegos_no_recomendados = conteo_juegos.sort_values(by='count', ascending=True).head(3)\n",
    "    \n",
    "    \n",
    "    resultado = [{\"Puesto {}: {}\".format(i+1, juego)} for i, juego in enumerate(top_juegos_no_recomendados['Item_Name'])]\n",
    "    \n",
    "    return resultado\n",
    "\n"
   ]
  },
  {
   "cell_type": "code",
   "execution_count": 14,
   "metadata": {},
   "outputs": [
    {
     "data": {
      "text/plain": [
       "[{'Puesto 1: Earth: Year 2066'},\n",
       " {'Puesto 2: Avaris 2'},\n",
       " {'Puesto 3: World of Subways 1 – The Path'}]"
      ]
     },
     "execution_count": 14,
     "metadata": {},
     "output_type": "execute_result"
    }
   ],
   "source": [
    "UsersNotRecommend(2011)\n"
   ]
  },
  {
   "cell_type": "markdown",
   "metadata": {},
   "source": [
    "5-def sentiment_analysis( año : int ): Según el año de lanzamiento, se devuelve una lista con la cantidad de registros de reseñas de usuarios que se encuentren categorizados con un análisis de sentimiento.\n",
    "\n",
    "   Ejemplo de retorno: {Negative = 182, Neutral = 120, Positive = 278}"
   ]
  },
  {
   "cell_type": "code",
   "execution_count": 15,
   "metadata": {},
   "outputs": [],
   "source": [
    "def sentiment_analysis(anio: int):\n",
    "    # Filtra el DataFrame para obtener solo las filas correspondientes al año especificado\n",
    "    df_filtrado = df2[df2['Year'] == anio]\n",
    "\n",
    "    # Contabiliza la cantidad de registros en cada categoría de análisis de sentimiento\n",
    "    categorias_sentimiento = df_filtrado['Sentiment_Analysis'].value_counts()\n",
    "\n",
    "    # Crea un diccionario con el formato deseado\n",
    "    resultado = {\n",
    "        'Negativo': categorias_sentimiento.get(0, 0),  # Si no hay registros negativos, se establece en 0\n",
    "        'Neutral': categorias_sentimiento.get(1, 0),   # Si no hay registros neutrales, se establece en 0\n",
    "        'Positivo': categorias_sentimiento.get(2, 0)   # Si no hay registros positivos, se establece en 0\n",
    "    }\n",
    "\n",
    "    return resultado"
   ]
  },
  {
   "cell_type": "code",
   "execution_count": 16,
   "metadata": {},
   "outputs": [
    {
     "name": "stdout",
     "output_type": "stream",
     "text": [
      "{'Negativo': 1830, 'Neutral': 13358, 'Positivo': 6923}\n"
     ]
    }
   ],
   "source": [
    "# Ejemplo de uso de la función\n",
    "anio = 2014  # Cambia el año según tus necesidades\n",
    "resultado = sentiment_analysis(anio)\n",
    "print(resultado)"
   ]
  },
  {
   "cell_type": "code",
   "execution_count": null,
   "metadata": {},
   "outputs": [],
   "source": [
    "https://apirest-aaex.onrender.com/docs"
   ]
  }
 ],
 "metadata": {
  "kernelspec": {
   "display_name": "base",
   "language": "python",
   "name": "python3"
  },
  "language_info": {
   "codemirror_mode": {
    "name": "ipython",
    "version": 3
   },
   "file_extension": ".py",
   "mimetype": "text/x-python",
   "name": "python",
   "nbconvert_exporter": "python",
   "pygments_lexer": "ipython3",
   "version": "3.11.3"
  },
  "orig_nbformat": 4
 },
 "nbformat": 4,
 "nbformat_minor": 2
}
